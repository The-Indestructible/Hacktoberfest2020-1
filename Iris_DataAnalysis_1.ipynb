import pandas as pd

iris = pd.read_csv("https://gist.githubusercontent.com/netj/8836201/raw/6f9306ad21398ea43cba4f7d537619d0e07d5ae3/iris.csv")
df = iris[iris["petal.length"] > 1.5]
df = df[df.variety == "Virginica"]
df.variety = "Iris-virginica"
for row in df.values:
    for e in row:
        print(e, end = " ")
    print()
